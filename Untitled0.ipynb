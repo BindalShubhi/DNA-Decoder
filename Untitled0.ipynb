{
  "nbformat": 4,
  "nbformat_minor": 0,
  "metadata": {
    "colab": {
      "provenance": [],
      "authorship_tag": "ABX9TyPg4y+lQW+REwgSK1eCyiOf",
      "include_colab_link": true
    },
    "kernelspec": {
      "name": "python3",
      "display_name": "Python 3"
    },
    "language_info": {
      "name": "python"
    }
  },
  "cells": [
    {
      "cell_type": "markdown",
      "metadata": {
        "id": "view-in-github",
        "colab_type": "text"
      },
      "source": [
        "<a href=\"https://colab.research.google.com/github/BindalShubhi/DNA-Decoder/blob/main/Untitled0.ipynb\" target=\"_parent\"><img src=\"https://colab.research.google.com/assets/colab-badge.svg\" alt=\"Open In Colab\"/></a>"
      ]
    },
    {
      "cell_type": "code",
      "execution_count": 7,
      "metadata": {
        "colab": {
          "base_uri": "https://localhost:8080/"
        },
        "id": "EMF7imcZnHiK",
        "outputId": "576bf927-6afd-4593-f440-74cdc14708b9"
      },
      "outputs": [
        {
          "output_type": "stream",
          "name": "stdout",
          "text": [
            "Enter DNA Sequence:ATGCGCTGCTGCTGCTGCTGCTGCTGCTCGCTCGAAAAAA\n",
            "Count A: 7\n",
            "Count T: 10\n",
            "Count G: 11\n",
            "Count C: 12\n",
            "GC Content: 57.50%\n",
            "Complementary Strand: TACGCGACGACGACGACGACGACGACGAGCGAGCTTTTTT\n",
            "A % : 17.50%\n",
            "T % : 25.00%\n",
            "G % : 27.50%\n",
            "C % : 30.00%\n"
          ]
        }
      ],
      "source": [
        "# DNA Decoder\n",
        "\n",
        "# Ask for user input\n",
        "sequence = input(\"Enter DNA Sequence:\").upper()\n",
        "\n",
        "\n",
        "# Count Nucleotides\n",
        "print(\"Count A:\",sequence.count(\"A\"))\n",
        "print(\"Count T:\",sequence.count(\"T\"))\n",
        "print(\"Count G:\",sequence.count(\"G\"))\n",
        "print(\"Count C:\",sequence.count(\"C\"))\n",
        "\n",
        "#GC Content\n",
        "gc_content = (sequence.count(\"G\") + sequence.count(\"C\"))/ len(sequence) * 100\n",
        "print(\"GC Content: {:.2f}%\".format(gc_content))\n",
        "\n",
        "# Complement Strand\n",
        "complement = sequence.replace(\"A\",\"t\").replace(\"T\",\"a\").replace(\"G\",\"c\").replace(\"C\",\"g\")\n",
        "complement = complement.upper()\n",
        "print(\"Complementary Strand:\",complement)\n",
        "\n",
        "#Base%\n",
        "base_A = (sequence.count(\"A\"))/ len(sequence) * 100\n",
        "print(\"A % : {:.2f}%\".format(base_A))\n",
        "base_T = (sequence.count(\"T\"))/ len(sequence) * 100\n",
        "print(\"T % : {:.2f}%\".format(base_T))\n",
        "base_G = (sequence.count(\"G\"))/ len(sequence) * 100\n",
        "print(\"G % : {:.2f}%\".format(base_G))\n",
        "base_C = (sequence.count(\"C\"))/ len(sequence) * 100\n",
        "print(\"C % : {:.2f}%\".format(base_C))"
      ]
    },
    {
      "cell_type": "code",
      "source": [],
      "metadata": {
        "id": "y_bDnm6Hoi8C"
      },
      "execution_count": null,
      "outputs": []
    }
  ]
}